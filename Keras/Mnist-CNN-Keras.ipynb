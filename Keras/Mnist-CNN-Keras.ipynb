{
 "cells": [
  {
   "cell_type": "code",
   "execution_count": 3,
   "metadata": {},
   "outputs": [],
   "source": [
    "import pandas as pd\n",
    "import numpy as np\n",
    "import matplotlib.pyplot as plt\n",
    "import matplotlib.image as mpimg\n",
    "import seaborn as sns\n",
    "%matplotlib inline\n",
    "\n",
    "np.random.seed(2)\n",
    "\n",
    "from sklearn.model_selection import train_test_split\n",
    "from sklearn.metrics import confusion_matrix\n",
    "import itertools\n",
    "\n",
    "from keras.utils.np_utils import to_categorical # convert to one-hot-encoding\n",
    "from keras.models import Sequential\n",
    "from keras.layers import Dense, Dropout, Flatten, Conv2D, MaxPool2D\n",
    "from keras.optimizers import RMSprop\n",
    "from keras.preprocessing.image import ImageDataGenerator\n",
    "from keras.callbacks import ReduceLROnPlateau\n",
    "\n",
    "\n",
    "sns.set(style='white', context='notebook', palette='deep')"
   ]
  },
  {
   "cell_type": "code",
   "execution_count": 4,
   "metadata": {
    "collapsed": true
   },
   "outputs": [],
   "source": [
    "# Load the data\n",
    "train = pd.read_csv(\"./train.csv\")\n",
    "test = pd.read_csv(\"./test.csv\")"
   ]
  },
  {
   "cell_type": "code",
   "execution_count": 5,
   "metadata": {},
   "outputs": [
    {
     "data": {
      "text/plain": [
       "1    4684\n",
       "7    4401\n",
       "3    4351\n",
       "9    4188\n",
       "2    4177\n",
       "6    4137\n",
       "0    4132\n",
       "4    4072\n",
       "8    4063\n",
       "5    3795\n",
       "Name: label, dtype: int64"
      ]
     },
     "execution_count": 5,
     "metadata": {},
     "output_type": "execute_result"
    },
    {
     "data": {
      "image/png": "[encoded data removed]",
      "text/plain": [
       "<matplotlib.figure.Figure at 0x7f5eb7b6ee80>"
      ]
     },
     "metadata": {},
     "output_type": "display_data"
    }
   ],
   "source": [
    "Y_train = train[\"label\"]\n",
    "\n",
    "# Drop 'label' column\n",
    "X_train = train.drop(labels = [\"label\"],axis = 1) \n",
    "\n",
    "# free some space\n",
    "del train \n",
    "\n",
    "g = sns.countplot(Y_train)\n",
    "\n",
    "Y_train.value_counts()"
   ]
  },
  {
   "cell_type": "code",
   "execution_count": 6,
   "metadata": {},
   "outputs": [
    {
     "data": {
      "text/plain": [
       "count       784\n",
       "unique        1\n",
       "top       False\n",
       "freq        784\n",
       "dtype: object"
      ]
     },
     "execution_count": 6,
     "metadata": {},
     "output_type": "execute_result"
    }
   ],
   "source": [
    "# Check the data\n",
    "X_train.isnull().any().describe()"
   ]
  },
  {
   "cell_type": "code",
   "execution_count": 7,
   "metadata": {},
   "outputs": [
    {
     "data": {
      "text/plain": [
       "count       784\n",
       "unique        1\n",
       "top       False\n",
       "freq        784\n",
       "dtype: object"
      ]
     },
     "execution_count": 7,
     "metadata": {},
     "output_type": "execute_result"
    }
   ],
   "source": [
    "test.isnull().any().describe()"
   ]
  },
  {
   "cell_type": "code",
   "execution_count": 8,
   "metadata": {
    "collapsed": true
   },
   "outputs": [],
   "source": [
    "# Normalize the data\n",
    "X_train = X_train / 255.0\n",
    "test = test / 255.0"
   ]
  },
  {
   "cell_type": "code",
   "execution_count": 9,
   "metadata": {
    "collapsed": true
   },
   "outputs": [],
   "source": [
    "# Reshape image in 3 dimensions (height = 28px, width = 28px , canal = 1)\n",
    "X_train = X_train.values.reshape(-1,28,28,1)\n",
    "test = test.values.reshape(-1,28,28,1)"
   ]
  },
  {
   "cell_type": "code",
   "execution_count": 10,
   "metadata": {
    "collapsed": true
   },
   "outputs": [],
   "source": [
    "# Encode labels to one hot vectors (ex : 2 -> [0,0,1,0,0,0,0,0,0,0])\n",
    "Y_train = to_categorical(Y_train, num_classes = 10)"
   ]
  },
  {
   "cell_type": "code",
   "execution_count": 11,
   "metadata": {
    "collapsed": true
   },
   "outputs": [],
   "source": [
    "# Set the random seed\n",
    "random_seed = 2"
   ]
  },
  {
   "cell_type": "code",
   "execution_count": 12,
   "metadata": {
    "collapsed": true
   },
   "outputs": [],
   "source": [
    "# Split the train and the validation set for the fitting\n",
    "X_train, X_val, Y_train, Y_val = train_test_split(X_train, Y_train, test_size = 0.1, random_state=random_seed)"
   ]
  },
  {
   "cell_type": "code",
   "execution_count": 13,
   "metadata": {},
   "outputs": [
    {
     "data": {
      "image/png": "[encoded data removed]",
      "text/plain": [
       "<matplotlib.figure.Figure at 0x7f5e3ef68be0>"
      ]
     },
     "metadata": {},
     "output_type": "display_data"
    }
   ],
   "source": [
    "# Some examples\n",
    "g = plt.imshow(X_train[0][:,:,0])"
   ]
  },
  {
   "cell_type": "code",
   "execution_count": 14,
   "metadata": {
    "collapsed": true
   },
   "outputs": [],
   "source": [
    "# Set the CNN model \n",
    "# my CNN architechture is In -> [[Conv2D->relu]*2 -> MaxPool2D -> Dropout]*2 -> Flatten -> Dense -> Dropout -> Out\n",
    "\n",
    "model = Sequential()\n",
    "\n",
    "model.add(Conv2D(filters = 32, kernel_size = (5,5),padding = 'Same', \n",
    "                 activation ='relu', input_shape = (28,28,1)))\n",
    "model.add(Conv2D(filters = 32, kernel_size = (5,5),padding = 'Same', \n",
    "                 activation ='relu'))\n",
    "model.add(MaxPool2D(pool_size=(2,2)))\n",
    "model.add(Dropout(0.25))\n",
    "\n",
    "\n",
    "model.add(Conv2D(filters = 64, kernel_size = (3,3),padding = 'Same', \n",
    "                 activation ='relu'))\n",
    "model.add(Conv2D(filters = 64, kernel_size = (3,3),padding = 'Same', \n",
    "                 activation ='relu'))\n",
    "model.add(MaxPool2D(pool_size=(2,2), strides=(2,2)))\n",
    "model.add(Dropout(0.25))\n",
    "\n",
    "\n",
    "model.add(Flatten())\n",
    "model.add(Dense(256, activation = \"relu\"))\n",
    "model.add(Dropout(0.5))\n",
    "model.add(Dense(10, activation = \"softmax\"))"
   ]
  },
  {
   "cell_type": "code",
   "execution_count": 15,
   "metadata": {
    "collapsed": true
   },
   "outputs": [],
   "source": [
    "import keras\n",
    "# Define the optimizer\n",
    "# optimizer = RMSprop(lr=0.001, rho=0.9, epsilon=1e-08, decay=0.0)\n",
    "optimizer=keras.optimizers.Adamax(lr=0.001, beta_1=0.9, beta_2=0.999, epsilon=1e-08, decay=0.0)\n"
   ]
  },
  {
   "cell_type": "code",
   "execution_count": 16,
   "metadata": {
    "collapsed": true
   },
   "outputs": [],
   "source": [
    "# Compile the model\n",
    "model.compile(optimizer = optimizer , loss = \"categorical_crossentropy\", metrics=[\"accuracy\"])"
   ]
  },
  {
   "cell_type": "code",
   "execution_count": 17,
   "metadata": {
    "collapsed": true
   },
   "outputs": [],
   "source": [
    "# Set a learning rate annealer\n",
    "learning_rate_reduction = ReduceLROnPlateau(monitor='val_acc', \n",
    "                                            patience=3, \n",
    "                                            verbose=1, \n",
    "                                            factor=0.5, \n",
    "                                            min_lr=0.00001)\n",
    "tbCallBack = keras.callbacks.TensorBoard(log_dir='./Graph', histogram_freq=0, write_graph=True, write_images=True)"
   ]
  },
  {
   "cell_type": "code",
   "execution_count": 18,
   "metadata": {
    "collapsed": true
   },
   "outputs": [],
   "source": [
    "epochs = 50 # Turn epochs to 30 to get 0.9967 accuracy\n",
    "batch_size = 86"
   ]
  },
  {
   "cell_type": "code",
   "execution_count": 19,
   "metadata": {
    "collapsed": true
   },
   "outputs": [],
   "source": [
    "# Without data augmentation i obtained an accuracy of 0.98114\n",
    "#history = model.fit(X_train, Y_train, batch_size = batch_size, epochs = epochs, \n",
    "#          validation_data = (X_val, Y_val), verbose = 2)"
   ]
  },
  {
   "cell_type": "code",
   "execution_count": 20,
   "metadata": {
    "collapsed": true
   },
   "outputs": [],
   "source": [
    "# With data augmentation to prevent overfitting (accuracy 0.99286)\n",
    "\n",
    "datagen = ImageDataGenerator(\n",
    "        featurewise_center=False,  # set input mean to 0 over the dataset\n",
    "        samplewise_center=False,  # set each sample mean to 0\n",
    "        featurewise_std_normalization=False,  # divide inputs by std of the dataset\n",
    "        samplewise_std_normalization=False,  # divide each input by its std\n",
    "        zca_whitening=False,  # apply ZCA whitening\n",
    "        rotation_range=10,  # randomly rotate images in the range (degrees, 0 to 180)\n",
    "        zoom_range = 0.1, # Randomly zoom image \n",
    "        width_shift_range=0.1,  # randomly shift images horizontally (fraction of total width)\n",
    "        height_shift_range=0.1,  # randomly shift images vertically (fraction of total height)\n",
    "        horizontal_flip=False,  # randomly flip images\n",
    "        vertical_flip=False)  # randomly flip images\n",
    "\n",
    "\n",
    "datagen.fit(X_train)"
   ]
  },
  {
   "cell_type": "code",
   "execution_count": 21,
   "metadata": {},
   "outputs": [
    {
     "name": "stdout",
     "output_type": "stream",
     "text": [
      "Epoch 1/50\n",
      "7s - loss: 0.6512 - acc: 0.7863 - val_loss: 0.1042 - val_acc: 0.9662\n",
      "Epoch 2/50\n",
      "6s - loss: 0.2361 - acc: 0.9272 - val_loss: 0.0736 - val_acc: 0.9764\n",
      "Epoch 3/50\n",
      "6s - loss: 0.1731 - acc: 0.9483 - val_loss: 0.0637 - val_acc: 0.9807\n",
      "Epoch 4/50\n",
      "6s - loss: 0.1458 - acc: 0.9547 - val_loss: 0.0496 - val_acc: 0.9848\n",
      "Epoch 5/50\n",
      "6s - loss: 0.1223 - acc: 0.9639 - val_loss: 0.0485 - val_acc: 0.9838\n",
      "Epoch 6/50\n",
      "6s - loss: 0.1067 - acc: 0.9675 - val_loss: 0.0373 - val_acc: 0.9895\n",
      "Epoch 7/50\n",
      "6s - loss: 0.0940 - acc: 0.9710 - val_loss: 0.0341 - val_acc: 0.9902\n",
      "Epoch 8/50\n",
      "6s - loss: 0.0867 - acc: 0.9733 - val_loss: 0.0286 - val_acc: 0.9912\n",
      "Epoch 9/50\n",
      "6s - loss: 0.0796 - acc: 0.9756 - val_loss: 0.0296 - val_acc: 0.9910\n",
      "Epoch 10/50\n",
      "6s - loss: 0.0765 - acc: 0.9774 - val_loss: 0.0259 - val_acc: 0.9917\n",
      "Epoch 11/50\n",
      "6s - loss: 0.0734 - acc: 0.9781 - val_loss: 0.0276 - val_acc: 0.9910\n",
      "Epoch 12/50\n",
      "6s - loss: 0.0682 - acc: 0.9792 - val_loss: 0.0247 - val_acc: 0.9933\n",
      "Epoch 13/50\n",
      "6s - loss: 0.0656 - acc: 0.9802 - val_loss: 0.0230 - val_acc: 0.9929\n",
      "Epoch 14/50\n",
      "6s - loss: 0.0599 - acc: 0.9817 - val_loss: 0.0297 - val_acc: 0.9924\n",
      "Epoch 15/50\n",
      "6s - loss: 0.0614 - acc: 0.9820 - val_loss: 0.0224 - val_acc: 0.9921\n",
      "Epoch 16/50\n",
      "\n",
      "Epoch 00015: reducing learning rate to 0.0005000000237487257.\n",
      "6s - loss: 0.0594 - acc: 0.9824 - val_loss: 0.0211 - val_acc: 0.9924\n",
      "Epoch 17/50\n",
      "6s - loss: 0.0538 - acc: 0.9837 - val_loss: 0.0190 - val_acc: 0.9948\n",
      "Epoch 18/50\n",
      "6s - loss: 0.0515 - acc: 0.9848 - val_loss: 0.0188 - val_acc: 0.9945\n",
      "Epoch 19/50\n",
      "6s - loss: 0.0483 - acc: 0.9855 - val_loss: 0.0198 - val_acc: 0.9936\n",
      "Epoch 20/50\n",
      "6s - loss: 0.0483 - acc: 0.9853 - val_loss: 0.0190 - val_acc: 0.9945\n",
      "Epoch 21/50\n",
      "\n",
      "Epoch 00020: reducing learning rate to 0.0002500000118743628.\n",
      "6s - loss: 0.0445 - acc: 0.9862 - val_loss: 0.0191 - val_acc: 0.9945\n",
      "Epoch 22/50\n",
      "6s - loss: 0.0469 - acc: 0.9856 - val_loss: 0.0171 - val_acc: 0.9952\n",
      "Epoch 23/50\n",
      "6s - loss: 0.0440 - acc: 0.9875 - val_loss: 0.0186 - val_acc: 0.9940\n",
      "Epoch 24/50\n",
      "6s - loss: 0.0439 - acc: 0.9863 - val_loss: 0.0170 - val_acc: 0.9950\n",
      "Epoch 25/50\n",
      "6s - loss: 0.0418 - acc: 0.9873 - val_loss: 0.0161 - val_acc: 0.9952\n",
      "Epoch 26/50\n",
      "\n",
      "Epoch 00025: reducing learning rate to 0.0001250000059371814.\n",
      "6s - loss: 0.0409 - acc: 0.9879 - val_loss: 0.0179 - val_acc: 0.9948\n",
      "Epoch 27/50\n",
      "6s - loss: 0.0433 - acc: 0.9865 - val_loss: 0.0166 - val_acc: 0.9945\n",
      "Epoch 28/50\n",
      "6s - loss: 0.0409 - acc: 0.9875 - val_loss: 0.0170 - val_acc: 0.9950\n",
      "Epoch 29/50\n",
      "\n",
      "Epoch 00028: reducing learning rate to 6.25000029685907e-05.\n",
      "6s - loss: 0.0403 - acc: 0.9880 - val_loss: 0.0170 - val_acc: 0.9950\n",
      "Epoch 30/50\n",
      "6s - loss: 0.0396 - acc: 0.9883 - val_loss: 0.0167 - val_acc: 0.9948\n",
      "Epoch 31/50\n",
      "6s - loss: 0.0391 - acc: 0.9883 - val_loss: 0.0162 - val_acc: 0.9948\n",
      "Epoch 32/50\n",
      "\n",
      "Epoch 00031: reducing learning rate to 3.125000148429535e-05.\n",
      "6s - loss: 0.0411 - acc: 0.9881 - val_loss: 0.0159 - val_acc: 0.9945\n",
      "Epoch 33/50\n",
      "6s - loss: 0.0354 - acc: 0.9894 - val_loss: 0.0165 - val_acc: 0.9948\n",
      "Epoch 34/50\n",
      "6s - loss: 0.0392 - acc: 0.9877 - val_loss: 0.0164 - val_acc: 0.9948\n",
      "Epoch 35/50\n",
      "\n",
      "Epoch 00034: reducing learning rate to 1.5625000742147677e-05.\n",
      "6s - loss: 0.0383 - acc: 0.9885 - val_loss: 0.0163 - val_acc: 0.9948\n",
      "Epoch 36/50\n",
      "6s - loss: 0.0375 - acc: 0.9885 - val_loss: 0.0162 - val_acc: 0.9950\n",
      "Epoch 37/50\n",
      "6s - loss: 0.0406 - acc: 0.9874 - val_loss: 0.0164 - val_acc: 0.9950\n",
      "Epoch 38/50\n",
      "\n",
      "Epoch 00037: reducing learning rate to 1e-05.\n",
      "6s - loss: 0.0387 - acc: 0.9879 - val_loss: 0.0162 - val_acc: 0.9950\n",
      "Epoch 39/50\n",
      "6s - loss: 0.0384 - acc: 0.9884 - val_loss: 0.0161 - val_acc: 0.9948\n",
      "Epoch 40/50\n",
      "6s - loss: 0.0402 - acc: 0.9873 - val_loss: 0.0161 - val_acc: 0.9950\n",
      "Epoch 41/50\n",
      "6s - loss: 0.0404 - acc: 0.9883 - val_loss: 0.0161 - val_acc: 0.9948\n",
      "Epoch 42/50\n",
      "6s - loss: 0.0383 - acc: 0.9874 - val_loss: 0.0162 - val_acc: 0.9950\n",
      "Epoch 43/50\n",
      "6s - loss: 0.0381 - acc: 0.9886 - val_loss: 0.0161 - val_acc: 0.9952\n",
      "Epoch 44/50\n",
      "6s - loss: 0.0380 - acc: 0.9888 - val_loss: 0.0162 - val_acc: 0.9952\n",
      "Epoch 45/50\n",
      "6s - loss: 0.0383 - acc: 0.9883 - val_loss: 0.0162 - val_acc: 0.9950\n",
      "Epoch 46/50\n",
      "6s - loss: 0.0405 - acc: 0.9880 - val_loss: 0.0161 - val_acc: 0.9952\n",
      "Epoch 47/50\n",
      "6s - loss: 0.0377 - acc: 0.9884 - val_loss: 0.0161 - val_acc: 0.9952\n",
      "Epoch 48/50\n",
      "6s - loss: 0.0359 - acc: 0.9888 - val_loss: 0.0161 - val_acc: 0.9952\n",
      "Epoch 49/50\n",
      "6s - loss: 0.0386 - acc: 0.9887 - val_loss: 0.0160 - val_acc: 0.9952\n",
      "Epoch 50/50\n",
      "6s - loss: 0.0386 - acc: 0.9882 - val_loss: 0.0161 - val_acc: 0.9950\n"
     ]
    }
   ],
   "source": [
    "# Fit the model\n",
    "history = model.fit_generator(datagen.flow(X_train,Y_train, batch_size=batch_size),\n",
    "                              epochs = epochs, validation_data = (X_val,Y_val),\n",
    "                              verbose = 2, steps_per_epoch=X_train.shape[0] // batch_size\n",
    "                              , callbacks=[learning_rate_reduction,tbCallBack])"
   ]
  },
  {
   "cell_type": "code",
   "execution_count": 22,
   "metadata": {},
   "outputs": [
    {
     "data": {
      "image/png": "[encoded data removed]",
      "text/plain": [
       "<matplotlib.figure.Figure at 0x7f5e3d788518>"
      ]
     },
     "metadata": {},
     "output_type": "display_data"
    }
   ],
   "source": [
    "# Plot the loss and accuracy curves for training and validation \n",
    "fig, ax = plt.subplots(2,1)\n",
    "ax[0].plot(history.history['loss'], color='b', label=\"Training loss\")\n",
    "ax[0].plot(history.history['val_loss'], color='r', label=\"validation loss\",axes =ax[0])\n",
    "legend = ax[0].legend(loc='best', shadow=True)\n",
    "\n",
    "ax[1].plot(history.history['acc'], color='b', label=\"Training accuracy\")\n",
    "ax[1].plot(history.history['val_acc'], color='r',label=\"Validation accuracy\")\n",
    "legend = ax[1].legend(loc='best', shadow=True)"
   ]
  },
  {
   "cell_type": "code",
   "execution_count": 23,
   "metadata": {},
   "outputs": [
    {
     "data": {
      "image/png": "[encoded data removed]",
      "text/plain": [
       "<matplotlib.figure.Figure at 0x7f5e3eeacba8>"
      ]
     },
     "metadata": {},
     "output_type": "display_data"
    }
   ],
   "source": [
    "# Look at confusion matrix \n",
    "\n",
    "def plot_confusion_matrix(cm, classes,\n",
    "                          normalize=False,\n",
    "                          title='Confusion matrix',\n",
    "                          cmap=plt.cm.Blues):\n",
    "    \"\"\"\n",
    "    This function prints and plots the confusion matrix.\n",
    "    Normalization can be applied by setting `normalize=True`.\n",
    "    \"\"\"\n",
    "    plt.imshow(cm, interpolation='nearest', cmap=cmap)\n",
    "    plt.title(title)\n",
    "    plt.colorbar()\n",
    "    tick_marks = np.arange(len(classes))\n",
    "    plt.xticks(tick_marks, classes, rotation=45)\n",
    "    plt.yticks(tick_marks, classes)\n",
    "\n",
    "    if normalize:\n",
    "        cm = cm.astype('float') / cm.sum(axis=1)[:, np.newaxis]\n",
    "\n",
    "    thresh = cm.max() / 2.\n",
    "    for i, j in itertools.product(range(cm.shape[0]), range(cm.shape[1])):\n",
    "        plt.text(j, i, cm[i, j],\n",
    "                 horizontalalignment=\"center\",\n",
    "                 color=\"white\" if cm[i, j] > thresh else \"black\")\n",
    "\n",
    "    plt.tight_layout()\n",
    "    plt.ylabel('True label')\n",
    "    plt.xlabel('Predicted label')\n",
    "\n",
    "# Predict the values from the validation dataset\n",
    "Y_pred = model.predict(X_val)\n",
    "# Convert predictions classes to one hot vectors \n",
    "Y_pred_classes = np.argmax(Y_pred,axis = 1) \n",
    "# Convert validation observations to one hot vectors\n",
    "Y_true = np.argmax(Y_val,axis = 1) \n",
    "# compute the confusion matrix\n",
    "confusion_mtx = confusion_matrix(Y_true, Y_pred_classes) \n",
    "# plot the confusion matrix\n",
    "plot_confusion_matrix(confusion_mtx, classes = range(10)) "
   ]
  },
  {
   "cell_type": "code",
   "execution_count": 24,
   "metadata": {},
   "outputs": [
    {
     "data": {
      "image/png": "[encoded data removed]",
      "text/plain": [
       "<matplotlib.figure.Figure at 0x7f5e30666240>"
      ]
     },
     "metadata": {},
     "output_type": "display_data"
    }
   ],
   "source": [
    "# Display some error results \n",
    "\n",
    "# Errors are difference between predicted labels and true labels\n",
    "errors = (Y_pred_classes - Y_true != 0)\n",
    "\n",
    "Y_pred_classes_errors = Y_pred_classes[errors]\n",
    "Y_pred_errors = Y_pred[errors]\n",
    "Y_true_errors = Y_true[errors]\n",
    "X_val_errors = X_val[errors]\n",
    "\n",
    "def display_errors(errors_index,img_errors,pred_errors, obs_errors):\n",
    "    \"\"\" This function shows 6 images with their predicted and real labels\"\"\"\n",
    "    n = 0\n",
    "    nrows = 2\n",
    "    ncols = 3\n",
    "    fig, ax = plt.subplots(nrows,ncols,sharex=True,sharey=True)\n",
    "    for row in range(nrows):\n",
    "        for col in range(ncols):\n",
    "            error = errors_index[n]\n",
    "            ax[row,col].imshow((img_errors[error]).reshape((28,28)))\n",
    "            ax[row,col].set_title(\"Predicted label :{}\\nTrue label :{}\".format(pred_errors[error],obs_errors[error]))\n",
    "            n += 1\n",
    "\n",
    "# Probabilities of the wrong predicted numbers\n",
    "Y_pred_errors_prob = np.max(Y_pred_errors,axis = 1)\n",
    "\n",
    "# Predicted probabilities of the true values in the error set\n",
    "true_prob_errors = np.diagonal(np.take(Y_pred_errors, Y_true_errors, axis=1))\n",
    "\n",
    "# Difference between the probability of the predicted label and the true label\n",
    "delta_pred_true_errors = Y_pred_errors_prob - true_prob_errors\n",
    "\n",
    "# Sorted list of the delta prob errors\n",
    "sorted_dela_errors = np.argsort(delta_pred_true_errors)\n",
    "\n",
    "# Top 6 errors \n",
    "most_important_errors = sorted_dela_errors[-6:]\n",
    "\n",
    "# Show the top 6 errors\n",
    "display_errors(most_important_errors, X_val_errors, Y_pred_classes_errors, Y_true_errors)\n"
   ]
  },
  {
   "cell_type": "code",
   "execution_count": 25,
   "metadata": {
    "collapsed": true
   },
   "outputs": [],
   "source": [
    "# predict results\n",
    "results = model.predict(test)\n",
    "\n",
    "# select the indix with the maximum probability\n",
    "results = np.argmax(results,axis = 1)\n",
    "\n",
    "results = pd.Series(results,name=\"Label\")"
   ]
  },
  {
   "cell_type": "code",
   "execution_count": 26,
   "metadata": {
    "collapsed": true
   },
   "outputs": [],
   "source": [
    "submission = pd.concat([pd.Series(range(1,28001),name = \"ImageId\"),results],axis = 1)\n",
    "\n",
    "submission.to_csv(\"cnn_mnist_datagen.csv\",index=False)"
   ]
  }
 ],
 "metadata": {
  "kernelspec": {
   "display_name": "Python 3",
   "language": "python",
   "name": "python3"
  },
  "language_info": {
   "codemirror_mode": {
    "name": "ipython",
    "version": 3
   },
   "file_extension": ".py",
   "mimetype": "text/x-python",
   "name": "python",
   "nbconvert_exporter": "python",
   "pygments_lexer": "ipython3",
   "version": "3.6.2"
  }
 },
 "nbformat": 4,
 "nbformat_minor": 2
}
