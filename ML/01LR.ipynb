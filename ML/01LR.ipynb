{
 "cells": [
  {
   "cell_type": "code",
   "execution_count": 1,
   "metadata": {},
   "outputs": [],
   "source": [
    "import math\n",
    "from itertools import combinations "
   ]
  },
  {
   "cell_type": "code",
   "execution_count": 2,
   "metadata": {},
   "outputs": [],
   "source": [
    "def L_dist(x1,x2,p):\n",
    "    if len(x1)==len(x2) and len(x1)>1:\n",
    "        sum = 0\n",
    "        for i in x1:\n",
    "            sum+=math.pow(abs(x1[i]-x2[i]),p)\n",
    "        return math.pow(sum,1/p)\n",
    "    else:\n",
    "        return 0"
   ]
  },
  {
   "cell_type": "code",
   "execution_count": 3,
   "metadata": {},
   "outputs": [],
   "source": [
    "import numpy as np\n",
    "import pandas as pd\n",
    "import matplotlib.pyplot as plt\n",
    "%matplotlib inline\n",
    "\n",
    "from sklearn.datasets import make_regression\n",
    "from sklearn.datasets import load_iris\n",
    "from sklearn.model_selection import train_test_split\n",
    "from collections import Counter"
   ]
  },
  {
   "cell_type": "code",
   "execution_count": 4,
   "metadata": {},
   "outputs": [],
   "source": [
    "x_train, y_train, W_target = make_regression(n_samples=100, n_features=1, noise=10, bias=5.0,coef = True)"
   ]
  },
  {
   "cell_type": "code",
   "execution_count": 5,
   "metadata": {},
   "outputs": [],
   "source": [
    "#make_regression??"
   ]
  },
  {
   "cell_type": "code",
   "execution_count": 6,
   "metadata": {},
   "outputs": [
    {
     "data": {
      "text/plain": [
       "<matplotlib.collections.PathCollection at 0x1f2e2f91bc8>"
      ]
     },
     "execution_count": 6,
     "metadata": {},
     "output_type": "execute_result"
    },
    {
     "data": {
      "image/png": "[encoded data removed]",
      "text/plain": [
       "<Figure size 432x288 with 1 Axes>"
      ]
     },
     "metadata": {
      "needs_background": "light"
     },
     "output_type": "display_data"
    }
   ],
   "source": [
    "plt.scatter(x_train,y_train)"
   ]
  },
  {
   "cell_type": "code",
   "execution_count": 7,
   "metadata": {},
   "outputs": [],
   "source": [
    "x_train=np.array(x_train)\n",
    "y_train=np.array(y_train)"
   ]
  },
  {
   "cell_type": "code",
   "execution_count": 8,
   "metadata": {},
   "outputs": [],
   "source": [
    "w=np.linalg.inv(np.dot(x_train.T,x_train)).dot((x_train.T)).dot(y_train)"
   ]
  },
  {
   "cell_type": "code",
   "execution_count": 9,
   "metadata": {},
   "outputs": [
    {
     "data": {
      "text/plain": [
       "array([38.54775737])"
      ]
     },
     "execution_count": 9,
     "metadata": {},
     "output_type": "execute_result"
    }
   ],
   "source": [
    "w"
   ]
  },
  {
   "cell_type": "code",
   "execution_count": 61,
   "metadata": {},
   "outputs": [],
   "source": [
    "class LR:\n",
    "    def __init__(self,fit_intercept = True):\n",
    "        self.beta = None\n",
    "        self.fit_intercept = fit_intercept\n",
    "    def fit(self,X,y):\n",
    "        if self.fit_intercept:\n",
    "            X = np.c_[np.ones(X.shape[0]),X]\n",
    "        pseudo_inverse = np.dot(np.linalg.inv(np.dot(X.T,X)),X.T)\n",
    "        self.beta = np.dot(pseudo_inverse,y)\n",
    "    def predict(self,X):\n",
    "        if self.fit_intercept:\n",
    "            X=np.c_[np.ones(X.shape[0]),X]\n",
    "        return np.dot(X,self.beta)"
   ]
  },
  {
   "cell_type": "code",
   "execution_count": 62,
   "metadata": {},
   "outputs": [],
   "source": [
    "x_test=np.linspace(-2,2)"
   ]
  },
  {
   "cell_type": "code",
   "execution_count": 63,
   "metadata": {},
   "outputs": [],
   "source": [
    "lr = LR(fit_intercept=True)\n",
    "lr.fit(x_train,y_train)\n",
    "y_pred = lr.predict(x_test)"
   ]
  },
  {
   "cell_type": "code",
   "execution_count": 64,
   "metadata": {},
   "outputs": [],
   "source": [
    "#y_pred"
   ]
  },
  {
   "cell_type": "code",
   "execution_count": 65,
   "metadata": {},
   "outputs": [
    {
     "data": {
      "image/png": "[encoded data removed]",
      "text/plain": [
       "<Figure size 432x288 with 1 Axes>"
      ]
     },
     "metadata": {
      "needs_background": "light"
     },
     "output_type": "display_data"
    }
   ],
   "source": [
    "plt.figure\n",
    "plt.scatter(x_train,y_train)\n",
    "plt.plot(x_test,y_pred)\n",
    "plt.show()"
   ]
  },
  {
   "cell_type": "code",
   "execution_count": 66,
   "metadata": {},
   "outputs": [
    {
     "data": {
      "text/plain": [
       "array([ 2.66606235, 38.52283613])"
      ]
     },
     "execution_count": 66,
     "metadata": {},
     "output_type": "execute_result"
    }
   ],
   "source": [
    "lr.beta"
   ]
  },
  {
   "cell_type": "code",
   "execution_count": 16,
   "metadata": {},
   "outputs": [],
   "source": [
    "xx=np.c_[np.ones(x_train.shape[0]),x_train]"
   ]
  },
  {
   "cell_type": "code",
   "execution_count": 17,
   "metadata": {},
   "outputs": [],
   "source": [
    "#xx"
   ]
  },
  {
   "cell_type": "code",
   "execution_count": 18,
   "metadata": {},
   "outputs": [],
   "source": [
    "def loss(x,w,b,y):\n",
    "    \"\"\"\n",
    "    目标函数\n",
    "    :param x: 自变量，标量\n",
    "    :return: 因变量，标量\n",
    "    \"\"\"\n",
    "    l = 0\n",
    "    for i in range(len(x)):\n",
    "        l+= 0.5*(w*x[i]+b-y[i]) *  0.5*(w*x[i]+b-y[i]) \n",
    "    return l"
   ]
  },
  {
   "cell_type": "code",
   "execution_count": 55,
   "metadata": {},
   "outputs": [],
   "source": [
    "def grad_desc(x,y,initial_w,initial_b,alpha,num_iter):\n",
    "    w = initial_w\n",
    "    b = initial_b\n",
    "    # 定义一个list保存所有的损失函数值，用来显示下降过程。\n",
    "    cost_list=[]\n",
    "    for i in range(num_iter):\n",
    "        cost_list.append(loss(x_train,initial_w,initial_b,y_train))\n",
    "        w,b= step_grad_desc(w,b,alpha,x,y)\n",
    "    return [w,b,cost_list]\n",
    "\n",
    "def step_grad_desc(current_w,current_b,alpha,x_train,y_train):\n",
    "    sum_grad_w=0\n",
    "    sum_grad_b=0\n",
    "    M=len(y_train)\n",
    "    #对每个点代入公式求和\n",
    "    for i in range(M):\n",
    "        x= x_train[i]\n",
    "        y= y_train[i]\n",
    "        sum_grad_w += (current_w * x +current_b -y) *x\n",
    "        sum_grad_b +=  current_w * x +current_b -y\n",
    "    #用公式求当前梯度\n",
    "    grad_w=2/M * sum_grad_w\n",
    "    grad_b=2/M * sum_grad_b\n",
    "    \n",
    "    #梯度下降，更新当前的w和b\n",
    "    updated_w = current_w- alpha * grad_w\n",
    "    updated_b = current_b -alpha * grad_b\n",
    "    return updated_w,updated_b"
   ]
  },
  {
   "cell_type": "code",
   "execution_count": 56,
   "metadata": {},
   "outputs": [
    {
     "name": "stdout",
     "output_type": "stream",
     "text": [
      "w is : [38.52283274]\n",
      "b is : [2.66606247]\n"
     ]
    }
   ],
   "source": [
    "w,b,cost_list= grad_desc(x_train,y_train,initial_w=1,initial_b=1,alpha=0.01,num_iter=1000)\n",
    "print (\"w is :\",w)\n",
    "print (\"b is :\",b)\n"
   ]
  },
  {
   "cell_type": "code",
   "execution_count": 57,
   "metadata": {},
   "outputs": [
    {
     "data": {
      "text/plain": [
       "[<matplotlib.lines.Line2D at 0x1f2e328b148>]"
      ]
     },
     "execution_count": 57,
     "metadata": {},
     "output_type": "execute_result"
    },
    {
     "data": {
      "image/png": "[encoded data removed]",
      "text/plain": [
       "<Figure size 432x288 with 1 Axes>"
      ]
     },
     "metadata": {
      "needs_background": "light"
     },
     "output_type": "display_data"
    }
   ],
   "source": [
    "cost = loss(x_train,w[-1],b[-1],y_train)\n",
    "\n",
    "#print(\"cost_list:\",cost_list)\n",
    "#print(\"cost is:\",cost)\n",
    "plt.plot(cost_list)"
   ]
  },
  {
   "cell_type": "code",
   "execution_count": 71,
   "metadata": {},
   "outputs": [],
   "source": [
    "def grad_desc_vec(x,y,initial_w,alpha,num_iter):\n",
    "    w = initial_w\n",
    "    # 定义一个list保存所有的损失函数值，用来显示下降过程。\n",
    "    for i in range(num_iter):\n",
    "        w= w-alpha*step_grad_desc_vec(w,alpha,x,y)\n",
    "    return w\n",
    "\n",
    "def step_grad_desc_vec(current_w,alpha,x_train,y_train):\n",
    "\n",
    "    return x_train.T.dot(x_train.dot(current_w)-y_train)*2./len(y_train)"
   ]
  },
  {
   "cell_type": "code",
   "execution_count": 73,
   "metadata": {},
   "outputs": [
    {
     "name": "stdout",
     "output_type": "stream",
     "text": [
      "w is : [ 2.66606247 38.52283309]\n"
     ]
    }
   ],
   "source": [
    "w= grad_desc_vec(x=xx,y=y_train,initial_w=np.array([5,5]),alpha=0.01,num_iter=1000)\n",
    "print (\"w is :\",w)"
   ]
  },
  {
   "cell_type": "code",
   "execution_count": 75,
   "metadata": {},
   "outputs": [
    {
     "data": {
      "text/plain": [
       "(100, 2)"
      ]
     },
     "execution_count": 75,
     "metadata": {},
     "output_type": "execute_result"
    }
   ],
   "source": [
    "xx.shape"
   ]
  },
  {
   "cell_type": "code",
   "execution_count": null,
   "metadata": {},
   "outputs": [],
   "source": []
  }
 ],
 "metadata": {
  "kernelspec": {
   "display_name": "Python 3",
   "language": "python",
   "name": "python3"
  },
  "language_info": {
   "codemirror_mode": {
    "name": "ipython",
    "version": 3
   },
   "file_extension": ".py",
   "mimetype": "text/x-python",
   "name": "python",
   "nbconvert_exporter": "python",
   "pygments_lexer": "ipython3",
   "version": "3.7.6"
  }
 },
 "nbformat": 4,
 "nbformat_minor": 4
}
