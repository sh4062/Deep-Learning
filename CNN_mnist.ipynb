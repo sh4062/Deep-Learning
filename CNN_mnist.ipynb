{
 "cells": [
  {
   "cell_type": "code",
   "execution_count": 2,
   "metadata": {
    "collapsed": false
   },
   "outputs": [],
   "source": [
    "import torch\n",
    "from torch import nn, optim\n",
    "import torch.nn.functional as F\n",
    "from torch.autograd import Variable\n",
    "from torch.utils.data import DataLoader\n",
    "from torchvision import transforms\n",
    "from torchvision import datasets"
   ]
  },
  {
   "cell_type": "code",
   "execution_count": 3,
   "metadata": {
    "collapsed": true
   },
   "outputs": [],
   "source": [
    "#Hyperparameter\n",
    "batch_size = 128\n",
    "learning_rate = 1e-2\n",
    "num_epoches = 20"
   ]
  },
  {
   "cell_type": "code",
   "execution_count": 4,
   "metadata": {
    "collapsed": true
   },
   "outputs": [],
   "source": [
    "train_dataset = datasets.MNIST(\n",
    "    root='./data', train=True, transform=transforms.ToTensor(), download=True)\n",
    "\n",
    "test_dataset = datasets.MNIST(\n",
    "    root='./data', train=False, transform=transforms.ToTensor())\n",
    "\n",
    "train_loader = DataLoader(train_dataset, batch_size=batch_size, shuffle=True)\n",
    "test_loader = DataLoader(test_dataset, batch_size=batch_size, shuffle=False)"
   ]
  },
  {
   "cell_type": "code",
   "execution_count": 14,
   "metadata": {
    "collapsed": false
   },
   "outputs": [],
   "source": [
    "class CNN(nn.Module):\n",
    "    def __init__(self, in_dim, n_class):\n",
    "        super(CNN, self).__init__()\n",
    "        self.conv=nn.Sequential(\n",
    "            nn.Conv2d(in_dim,6,3,stride=1,padding=1),\n",
    "            nn.ReLU(True),\n",
    "            nn.MaxPool2d(2,2),\n",
    "            nn.Conv2d(6,16,5,stride=1,padding=0),\n",
    "            nn.ReLU(True),\n",
    "            nn.MaxPool2d((2,2)))\n",
    "\n",
    "        self.fc = nn.Sequential(\n",
    "            nn.Linear(400, 120), nn.Linear(120, 84), nn.Linear(84, n_class))\n",
    "    def forward(self,x):\n",
    "            out = self.conv(x)\n",
    "            out = out.view(out.size(0),-1)\n",
    "            out = self.fc(out)\n",
    "            return out\n"
   ]
  },
  {
   "cell_type": "code",
   "execution_count": 16,
   "metadata": {
    "collapsed": false
   },
   "outputs": [],
   "source": [
    "model = CNN(1, 10)\n",
    "model = model.cuda()"
   ]
  },
  {
   "cell_type": "code",
   "execution_count": 18,
   "metadata": {
    "collapsed": false
   },
   "outputs": [],
   "source": [
    "criterion = nn.CrossEntropyLoss()\n",
    "optimizer = optim.SGD(model.parameters(), lr=learning_rate)"
   ]
  },
  {
   "cell_type": "code",
   "execution_count": 21,
   "metadata": {
    "collapsed": false
   },
   "outputs": [
    {
     "name": "stdout",
     "output_type": "stream",
     "text": [
      "epoch1\n",
      "**********\n",
      "[1/20] Loss: 2.295023, Acc: 0.155573\n",
      "Finish 1 epoch, Loss: 2.279683, Acc: 0.258617\n",
      "Test Loss: 2.204051, Acc: 0.550800\n",
      "\n",
      "epoch2\n",
      "**********\n",
      "[2/20] Loss: 1.488435, Acc: 0.688385\n",
      "Finish 2 epoch, Loss: 1.141745, Acc: 0.745367\n",
      "Test Loss: 0.437699, Acc: 0.871400\n",
      "\n",
      "epoch3\n",
      "**********\n",
      "[3/20] Loss: 0.394851, Acc: 0.880703\n",
      "Finish 3 epoch, Loss: 0.369296, Acc: 0.888967\n",
      "Test Loss: 0.293190, Acc: 0.910600\n",
      "\n",
      "epoch4\n",
      "**********\n",
      "[4/20] Loss: 0.284822, Acc: 0.915260\n",
      "Finish 4 epoch, Loss: 0.275181, Acc: 0.917767\n",
      "Test Loss: 0.226747, Acc: 0.930600\n",
      "\n",
      "epoch5\n",
      "**********\n",
      "[5/20] Loss: 0.224022, Acc: 0.932057\n",
      "Finish 5 epoch, Loss: 0.217302, Acc: 0.934833\n",
      "Test Loss: 0.178985, Acc: 0.946000\n",
      "\n",
      "epoch6\n",
      "**********\n",
      "[6/20] Loss: 0.186569, Acc: 0.943490\n",
      "Finish 6 epoch, Loss: 0.178512, Acc: 0.946283\n",
      "Test Loss: 0.151485, Acc: 0.954500\n",
      "\n",
      "epoch7\n",
      "**********\n",
      "[7/20] Loss: 0.155275, Acc: 0.953646\n",
      "Finish 7 epoch, Loss: 0.152282, Acc: 0.954000\n",
      "Test Loss: 0.130105, Acc: 0.959400\n",
      "\n",
      "epoch8\n",
      "**********\n",
      "[8/20] Loss: 0.136499, Acc: 0.958802\n",
      "Finish 8 epoch, Loss: 0.134507, Acc: 0.959367\n",
      "Test Loss: 0.125918, Acc: 0.961300\n",
      "\n",
      "epoch9\n",
      "**********\n",
      "[9/20] Loss: 0.120782, Acc: 0.962839\n",
      "Finish 9 epoch, Loss: 0.121282, Acc: 0.963033\n",
      "Test Loss: 0.104384, Acc: 0.967500\n",
      "\n",
      "epoch10\n",
      "**********\n",
      "[10/20] Loss: 0.109250, Acc: 0.966875\n",
      "Finish 10 epoch, Loss: 0.111350, Acc: 0.966300\n",
      "Test Loss: 0.094840, Acc: 0.970600\n",
      "\n",
      "epoch11\n",
      "**********\n",
      "[11/20] Loss: 0.105719, Acc: 0.967344\n",
      "Finish 11 epoch, Loss: 0.103144, Acc: 0.968250\n",
      "Test Loss: 0.091902, Acc: 0.971000\n",
      "\n",
      "epoch12\n",
      "**********\n",
      "[12/20] Loss: 0.098117, Acc: 0.969505\n",
      "Finish 12 epoch, Loss: 0.096677, Acc: 0.970283\n",
      "Test Loss: 0.084313, Acc: 0.973200\n",
      "\n",
      "epoch13\n",
      "**********\n",
      "[13/20] Loss: 0.091087, Acc: 0.971797\n",
      "Finish 13 epoch, Loss: 0.091574, Acc: 0.971850\n",
      "Test Loss: 0.080915, Acc: 0.974700\n",
      "\n",
      "epoch14\n",
      "**********\n",
      "[14/20] Loss: 0.085710, Acc: 0.974063\n",
      "Finish 14 epoch, Loss: 0.087431, Acc: 0.973133\n",
      "Test Loss: 0.080992, Acc: 0.973500\n",
      "\n",
      "epoch15\n",
      "**********\n",
      "[15/20] Loss: 0.085352, Acc: 0.974167\n",
      "Finish 15 epoch, Loss: 0.083088, Acc: 0.974867\n",
      "Test Loss: 0.075925, Acc: 0.974900\n",
      "\n",
      "epoch16\n",
      "**********\n",
      "[16/20] Loss: 0.081668, Acc: 0.975625\n",
      "Finish 16 epoch, Loss: 0.079857, Acc: 0.975733\n",
      "Test Loss: 0.069614, Acc: 0.977100\n",
      "\n",
      "epoch17\n",
      "**********\n",
      "[17/20] Loss: 0.075097, Acc: 0.976771\n",
      "Finish 17 epoch, Loss: 0.077171, Acc: 0.976367\n",
      "Test Loss: 0.065682, Acc: 0.978900\n",
      "\n",
      "epoch18\n",
      "**********\n",
      "[18/20] Loss: 0.071650, Acc: 0.977500\n",
      "Finish 18 epoch, Loss: 0.073765, Acc: 0.977067\n",
      "Test Loss: 0.066451, Acc: 0.978900\n",
      "\n",
      "epoch19\n",
      "**********\n",
      "[19/20] Loss: 0.072070, Acc: 0.978307\n",
      "Finish 19 epoch, Loss: 0.071628, Acc: 0.978467\n",
      "Test Loss: 0.062705, Acc: 0.979400\n",
      "\n",
      "epoch20\n",
      "**********\n",
      "[20/20] Loss: 0.071127, Acc: 0.977865\n",
      "Finish 20 epoch, Loss: 0.069165, Acc: 0.978433\n",
      "Test Loss: 0.061110, Acc: 0.979500\n",
      "\n"
     ]
    }
   ],
   "source": [
    "for epoch in range(num_epoches):\n",
    "    print('epoch{}'.format(epoch+1))\n",
    "    print('*'*10)\n",
    "    running_loss=0.0\n",
    "    running_acc=0.0\n",
    "    for i,data in enumerate(train_loader,1):\n",
    "        img,label=data\n",
    "        img = img.cuda()\n",
    "        label = label.cuda()\n",
    "        img = Variable(img)\n",
    "        label = Variable(label)\n",
    "        #forward\n",
    "        out=model(img)\n",
    "        loss=criterion(out,label)\n",
    "        running_loss+=loss.data[0]*label.size(0)\n",
    "        _,pred=torch.max(out,1)\n",
    "        num_correct=(pred==label).sum()\n",
    "        accuracy=(pred==label).float().mean()\n",
    "        running_acc +=num_correct.data[0]\n",
    "        #backward\n",
    "        optimizer.zero_grad()\n",
    "        loss.backward()\n",
    "        optimizer.step()\n",
    "        #\n",
    "        if i % 300 == 0:\n",
    "            print('[{}/{}] Loss: {:.6f}, Acc: {:.6f}'.format(\n",
    "                epoch + 1, num_epoches, running_loss / (batch_size * i),\n",
    "                running_acc / (batch_size * i)))\n",
    "    print('Finish {} epoch, Loss: {:.6f}, Acc: {:.6f}'.format(\n",
    "        epoch + 1, running_loss / (len(train_dataset)), running_acc / (len(\n",
    "            train_dataset))))\n",
    "    model.eval()\n",
    "    eval_loss = 0\n",
    "    eval_acc = 0\n",
    "    for data in test_loader:\n",
    "        img, label = data\n",
    "\n",
    "        img = Variable(img, volatile=True).cuda()\n",
    "        label = Variable(label, volatile=True).cuda()\n",
    "\n",
    "        out = model(img)\n",
    "        loss = criterion(out, label)\n",
    "        eval_loss += loss.data[0] * label.size(0)\n",
    "        _, pred = torch.max(out, 1)\n",
    "        num_correct = (pred == label).sum()\n",
    "        eval_acc += num_correct.data[0]\n",
    "    print('Test Loss: {:.6f}, Acc: {:.6f}'.format(eval_loss / (len(\n",
    "        test_dataset)), eval_acc / (len(test_dataset))))\n",
    "    print()\n",
    "\n",
    "# savemodel\n",
    "torch.save(model.state_dict(), './cnn.pth')"
   ]
  },
  {
   "cell_type": "code",
   "execution_count": null,
   "metadata": {
    "collapsed": true
   },
   "outputs": [],
   "source": []
  }
 ],
 "metadata": {
  "kernelspec": {
   "display_name": "Python 3",
   "language": "python",
   "name": "python3"
  },
  "language_info": {
   "codemirror_mode": {
    "name": "ipython",
    "version": 3
   },
   "file_extension": ".py",
   "mimetype": "text/x-python",
   "name": "python",
   "nbconvert_exporter": "python",
   "pygments_lexer": "ipython3",
   "version": "3.6.0"
  }
 },
 "nbformat": 4,
 "nbformat_minor": 2
}
